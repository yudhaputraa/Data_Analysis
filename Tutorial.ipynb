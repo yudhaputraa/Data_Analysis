{
 "cells": [
  {
   "cell_type": "code",
   "execution_count": 1,
   "metadata": {},
   "outputs": [],
   "source": [
    "import requests\n",
    "import pandas as pd"
   ]
  },
  {
   "cell_type": "code",
   "execution_count": 2,
   "metadata": {},
   "outputs": [],
   "source": [
    "def get_historic_price(symbol, exchange='bitfinex', after='2018-09-01'):\n",
    "    url = 'https://api.cryptowat.ch/markets/{exchange}/{symbol}usd/ohlc'.format(\n",
    "        symbol=symbol, exchange=exchange)\n",
    "    resp = requests.get(url, params={\n",
    "        'periods': '3600',\n",
    "        'after': str(int(pd.Timestamp(after).timestamp()))\n",
    "    })\n",
    "    resp.raise_for_status()\n",
    "    data = resp.json()\n",
    "    df = pd.DataFrame(data['result']['3600'], columns=[\n",
    "        'CloseTime', 'OpenPrice', 'HighPrice', 'LowPrice', 'ClosePrice', 'Volume', 'NA'\n",
    "    ])\n",
    "    df['CloseTime'] = pd.to_datetime(df['CloseTime'], unit='s')\n",
    "    df.set_index('CloseTime', inplace=True)\n",
    "    return df"
   ]
  },
  {
   "cell_type": "code",
   "execution_count": 3,
   "metadata": {},
   "outputs": [
    {
     "data": {
      "text/plain": [
       "Timestamp('2023-05-04 20:40:33.795474')"
      ]
     },
     "execution_count": 3,
     "metadata": {},
     "output_type": "execute_result"
    }
   ],
   "source": [
    "last_week = (pd.Timestamp.now() - pd.offsets.Day(7))\n",
    "last_week"
   ]
  },
  {
   "cell_type": "code",
   "execution_count": 5,
   "metadata": {},
   "outputs": [],
   "source": [
    "btc = get_historic_price('btc', 'bitstamp', after=last_week)"
   ]
  },
  {
   "cell_type": "code",
   "execution_count": 6,
   "metadata": {},
   "outputs": [],
   "source": [
    "eth = get_historic_price('eth', 'bitstamp', after=last_week)"
   ]
  },
  {
   "cell_type": "code",
   "execution_count": 7,
   "metadata": {},
   "outputs": [
    {
     "data": {
      "text/html": [
       "<div>\n",
       "<style scoped>\n",
       "    .dataframe tbody tr th:only-of-type {\n",
       "        vertical-align: middle;\n",
       "    }\n",
       "\n",
       "    .dataframe tbody tr th {\n",
       "        vertical-align: top;\n",
       "    }\n",
       "\n",
       "    .dataframe thead th {\n",
       "        text-align: right;\n",
       "    }\n",
       "</style>\n",
       "<table border=\"1\" class=\"dataframe\">\n",
       "  <thead>\n",
       "    <tr style=\"text-align: right;\">\n",
       "      <th></th>\n",
       "      <th>OpenPrice</th>\n",
       "      <th>HighPrice</th>\n",
       "      <th>LowPrice</th>\n",
       "      <th>ClosePrice</th>\n",
       "      <th>Volume</th>\n",
       "      <th>NA</th>\n",
       "    </tr>\n",
       "    <tr>\n",
       "      <th>CloseTime</th>\n",
       "      <th></th>\n",
       "      <th></th>\n",
       "      <th></th>\n",
       "      <th></th>\n",
       "      <th></th>\n",
       "      <th></th>\n",
       "    </tr>\n",
       "  </thead>\n",
       "  <tbody>\n",
       "    <tr>\n",
       "      <th>2023-05-04 21:00:00</th>\n",
       "      <td>28907</td>\n",
       "      <td>28932</td>\n",
       "      <td>28828</td>\n",
       "      <td>28884</td>\n",
       "      <td>40.305214</td>\n",
       "      <td>1.163643e+06</td>\n",
       "    </tr>\n",
       "    <tr>\n",
       "      <th>2023-05-04 22:00:00</th>\n",
       "      <td>28896</td>\n",
       "      <td>28915</td>\n",
       "      <td>28810</td>\n",
       "      <td>28855</td>\n",
       "      <td>17.357690</td>\n",
       "      <td>5.010390e+05</td>\n",
       "    </tr>\n",
       "    <tr>\n",
       "      <th>2023-05-04 23:00:00</th>\n",
       "      <td>28858</td>\n",
       "      <td>28867</td>\n",
       "      <td>28767</td>\n",
       "      <td>28796</td>\n",
       "      <td>70.656811</td>\n",
       "      <td>2.034863e+06</td>\n",
       "    </tr>\n",
       "    <tr>\n",
       "      <th>2023-05-05 00:00:00</th>\n",
       "      <td>28803</td>\n",
       "      <td>28869</td>\n",
       "      <td>28793</td>\n",
       "      <td>28851</td>\n",
       "      <td>7.738464</td>\n",
       "      <td>2.231801e+05</td>\n",
       "    </tr>\n",
       "    <tr>\n",
       "      <th>2023-05-05 01:00:00</th>\n",
       "      <td>28860</td>\n",
       "      <td>28971</td>\n",
       "      <td>28841</td>\n",
       "      <td>28947</td>\n",
       "      <td>56.256638</td>\n",
       "      <td>1.626365e+06</td>\n",
       "    </tr>\n",
       "  </tbody>\n",
       "</table>\n",
       "</div>"
      ],
      "text/plain": [
       "                     OpenPrice  HighPrice  LowPrice  ClosePrice     Volume  \\\n",
       "CloseTime                                                                    \n",
       "2023-05-04 21:00:00      28907      28932     28828       28884  40.305214   \n",
       "2023-05-04 22:00:00      28896      28915     28810       28855  17.357690   \n",
       "2023-05-04 23:00:00      28858      28867     28767       28796  70.656811   \n",
       "2023-05-05 00:00:00      28803      28869     28793       28851   7.738464   \n",
       "2023-05-05 01:00:00      28860      28971     28841       28947  56.256638   \n",
       "\n",
       "                               NA  \n",
       "CloseTime                          \n",
       "2023-05-04 21:00:00  1.163643e+06  \n",
       "2023-05-04 22:00:00  5.010390e+05  \n",
       "2023-05-04 23:00:00  2.034863e+06  \n",
       "2023-05-05 00:00:00  2.231801e+05  \n",
       "2023-05-05 01:00:00  1.626365e+06  "
      ]
     },
     "execution_count": 7,
     "metadata": {},
     "output_type": "execute_result"
    }
   ],
   "source": [
    "btc.head()"
   ]
  },
  {
   "cell_type": "code",
   "execution_count": 8,
   "metadata": {},
   "outputs": [
    {
     "data": {
      "text/plain": [
       "<AxesSubplot:xlabel='CloseTime'>"
      ]
     },
     "execution_count": 8,
     "metadata": {},
     "output_type": "execute_result"
    },
    {
     "data": {
      "image/png": "[encoded data removed]",
      "text/plain": [
       "<Figure size 1080x504 with 1 Axes>"
      ]
     },
     "metadata": {
      "needs_background": "light"
     },
     "output_type": "display_data"
    }
   ],
   "source": [
    "btc['ClosePrice'].plot(figsize=(15, 7))"
   ]
  },
  {
   "cell_type": "code",
   "execution_count": 11,
   "metadata": {},
   "outputs": [
    {
     "data": {
      "text/html": [
       "<div>\n",
       "<style scoped>\n",
       "    .dataframe tbody tr th:only-of-type {\n",
       "        vertical-align: middle;\n",
       "    }\n",
       "\n",
       "    .dataframe tbody tr th {\n",
       "        vertical-align: top;\n",
       "    }\n",
       "\n",
       "    .dataframe thead th {\n",
       "        text-align: right;\n",
       "    }\n",
       "</style>\n",
       "<table border=\"1\" class=\"dataframe\">\n",
       "  <thead>\n",
       "    <tr style=\"text-align: right;\">\n",
       "      <th></th>\n",
       "      <th>OpenPrice</th>\n",
       "      <th>HighPrice</th>\n",
       "      <th>LowPrice</th>\n",
       "      <th>ClosePrice</th>\n",
       "      <th>Volume</th>\n",
       "      <th>NA</th>\n",
       "    </tr>\n",
       "  </thead>\n",
       "  <tbody>\n",
       "    <tr>\n",
       "      <th>count</th>\n",
       "      <td>162.000000</td>\n",
       "      <td>162.000000</td>\n",
       "      <td>162.000000</td>\n",
       "      <td>162.000000</td>\n",
       "      <td>162.000000</td>\n",
       "      <td>1.620000e+02</td>\n",
       "    </tr>\n",
       "    <tr>\n",
       "      <th>mean</th>\n",
       "      <td>28379.203704</td>\n",
       "      <td>28454.549383</td>\n",
       "      <td>28282.030864</td>\n",
       "      <td>28369.851852</td>\n",
       "      <td>79.664734</td>\n",
       "      <td>2.247279e+06</td>\n",
       "    </tr>\n",
       "    <tr>\n",
       "      <th>std</th>\n",
       "      <td>737.807842</td>\n",
       "      <td>741.080310</td>\n",
       "      <td>753.870340</td>\n",
       "      <td>740.634999</td>\n",
       "      <td>100.621711</td>\n",
       "      <td>2.794464e+06</td>\n",
       "    </tr>\n",
       "    <tr>\n",
       "      <th>min</th>\n",
       "      <td>27358.000000</td>\n",
       "      <td>27447.000000</td>\n",
       "      <td>26842.000000</td>\n",
       "      <td>27363.000000</td>\n",
       "      <td>4.214882</td>\n",
       "      <td>1.157879e+05</td>\n",
       "    </tr>\n",
       "    <tr>\n",
       "      <th>25%</th>\n",
       "      <td>27641.000000</td>\n",
       "      <td>27695.250000</td>\n",
       "      <td>27569.000000</td>\n",
       "      <td>27634.250000</td>\n",
       "      <td>26.217711</td>\n",
       "      <td>7.533676e+05</td>\n",
       "    </tr>\n",
       "    <tr>\n",
       "      <th>50%</th>\n",
       "      <td>28248.500000</td>\n",
       "      <td>28316.000000</td>\n",
       "      <td>28137.500000</td>\n",
       "      <td>28221.500000</td>\n",
       "      <td>52.250875</td>\n",
       "      <td>1.508551e+06</td>\n",
       "    </tr>\n",
       "    <tr>\n",
       "      <th>75%</th>\n",
       "      <td>28973.500000</td>\n",
       "      <td>29051.500000</td>\n",
       "      <td>28919.750000</td>\n",
       "      <td>28970.000000</td>\n",
       "      <td>89.816864</td>\n",
       "      <td>2.520497e+06</td>\n",
       "    </tr>\n",
       "    <tr>\n",
       "      <th>max</th>\n",
       "      <td>29701.000000</td>\n",
       "      <td>29851.000000</td>\n",
       "      <td>29558.000000</td>\n",
       "      <td>29703.000000</td>\n",
       "      <td>819.278996</td>\n",
       "      <td>2.245477e+07</td>\n",
       "    </tr>\n",
       "  </tbody>\n",
       "</table>\n",
       "</div>"
      ],
      "text/plain": [
       "          OpenPrice     HighPrice      LowPrice    ClosePrice      Volume  \\\n",
       "count    162.000000    162.000000    162.000000    162.000000  162.000000   \n",
       "mean   28379.203704  28454.549383  28282.030864  28369.851852   79.664734   \n",
       "std      737.807842    741.080310    753.870340    740.634999  100.621711   \n",
       "min    27358.000000  27447.000000  26842.000000  27363.000000    4.214882   \n",
       "25%    27641.000000  27695.250000  27569.000000  27634.250000   26.217711   \n",
       "50%    28248.500000  28316.000000  28137.500000  28221.500000   52.250875   \n",
       "75%    28973.500000  29051.500000  28919.750000  28970.000000   89.816864   \n",
       "max    29701.000000  29851.000000  29558.000000  29703.000000  819.278996   \n",
       "\n",
       "                 NA  \n",
       "count  1.620000e+02  \n",
       "mean   2.247279e+06  \n",
       "std    2.794464e+06  \n",
       "min    1.157879e+05  \n",
       "25%    7.533676e+05  \n",
       "50%    1.508551e+06  \n",
       "75%    2.520497e+06  \n",
       "max    2.245477e+07  "
      ]
     },
     "execution_count": 11,
     "metadata": {},
     "output_type": "execute_result"
    }
   ],
   "source": [
    "btc.describe()"
   ]
  },
  {
   "cell_type": "code",
   "execution_count": 9,
   "metadata": {},
   "outputs": [
    {
     "data": {
      "text/html": [
       "<div>\n",
       "<style scoped>\n",
       "    .dataframe tbody tr th:only-of-type {\n",
       "        vertical-align: middle;\n",
       "    }\n",
       "\n",
       "    .dataframe tbody tr th {\n",
       "        vertical-align: top;\n",
       "    }\n",
       "\n",
       "    .dataframe thead th {\n",
       "        text-align: right;\n",
       "    }\n",
       "</style>\n",
       "<table border=\"1\" class=\"dataframe\">\n",
       "  <thead>\n",
       "    <tr style=\"text-align: right;\">\n",
       "      <th></th>\n",
       "      <th>OpenPrice</th>\n",
       "      <th>HighPrice</th>\n",
       "      <th>LowPrice</th>\n",
       "      <th>ClosePrice</th>\n",
       "      <th>Volume</th>\n",
       "      <th>NA</th>\n",
       "    </tr>\n",
       "    <tr>\n",
       "      <th>CloseTime</th>\n",
       "      <th></th>\n",
       "      <th></th>\n",
       "      <th></th>\n",
       "      <th></th>\n",
       "      <th></th>\n",
       "      <th></th>\n",
       "    </tr>\n",
       "  </thead>\n",
       "  <tbody>\n",
       "    <tr>\n",
       "      <th>2023-05-04 21:00:00</th>\n",
       "      <td>28907</td>\n",
       "      <td>28932</td>\n",
       "      <td>28828</td>\n",
       "      <td>28884</td>\n",
       "      <td>40.305214</td>\n",
       "      <td>1.163643e+06</td>\n",
       "    </tr>\n",
       "    <tr>\n",
       "      <th>2023-05-04 22:00:00</th>\n",
       "      <td>28896</td>\n",
       "      <td>28915</td>\n",
       "      <td>28810</td>\n",
       "      <td>28855</td>\n",
       "      <td>17.357690</td>\n",
       "      <td>5.010390e+05</td>\n",
       "    </tr>\n",
       "    <tr>\n",
       "      <th>2023-05-04 23:00:00</th>\n",
       "      <td>28858</td>\n",
       "      <td>28867</td>\n",
       "      <td>28767</td>\n",
       "      <td>28796</td>\n",
       "      <td>70.656811</td>\n",
       "      <td>2.034863e+06</td>\n",
       "    </tr>\n",
       "    <tr>\n",
       "      <th>2023-05-05 00:00:00</th>\n",
       "      <td>28803</td>\n",
       "      <td>28869</td>\n",
       "      <td>28793</td>\n",
       "      <td>28851</td>\n",
       "      <td>7.738464</td>\n",
       "      <td>2.231801e+05</td>\n",
       "    </tr>\n",
       "    <tr>\n",
       "      <th>2023-05-05 01:00:00</th>\n",
       "      <td>28860</td>\n",
       "      <td>28971</td>\n",
       "      <td>28841</td>\n",
       "      <td>28947</td>\n",
       "      <td>56.256638</td>\n",
       "      <td>1.626365e+06</td>\n",
       "    </tr>\n",
       "  </tbody>\n",
       "</table>\n",
       "</div>"
      ],
      "text/plain": [
       "                     OpenPrice  HighPrice  LowPrice  ClosePrice     Volume  \\\n",
       "CloseTime                                                                    \n",
       "2023-05-04 21:00:00      28907      28932     28828       28884  40.305214   \n",
       "2023-05-04 22:00:00      28896      28915     28810       28855  17.357690   \n",
       "2023-05-04 23:00:00      28858      28867     28767       28796  70.656811   \n",
       "2023-05-05 00:00:00      28803      28869     28793       28851   7.738464   \n",
       "2023-05-05 01:00:00      28860      28971     28841       28947  56.256638   \n",
       "\n",
       "                               NA  \n",
       "CloseTime                          \n",
       "2023-05-04 21:00:00  1.163643e+06  \n",
       "2023-05-04 22:00:00  5.010390e+05  \n",
       "2023-05-04 23:00:00  2.034863e+06  \n",
       "2023-05-05 00:00:00  2.231801e+05  \n",
       "2023-05-05 01:00:00  1.626365e+06  "
      ]
     },
     "execution_count": 9,
     "metadata": {},
     "output_type": "execute_result"
    }
   ],
   "source": [
    "btc.head()"
   ]
  },
  {
   "cell_type": "code",
   "execution_count": 10,
   "metadata": {},
   "outputs": [
    {
     "data": {
      "text/plain": [
       "<AxesSubplot:xlabel='CloseTime'>"
      ]
     },
     "execution_count": 10,
     "metadata": {},
     "output_type": "execute_result"
    },
    {
     "data": {
      "image/png": "[encoded data removed]",
      "text/plain": [
       "<Figure size 1080x504 with 1 Axes>"
      ]
     },
     "metadata": {
      "needs_background": "light"
     },
     "output_type": "display_data"
    }
   ],
   "source": [
    "eth['ClosePrice'].plot(figsize=(15, 7))"
   ]
  }
 ],
 "metadata": {
  "kernelspec": {
   "display_name": "base",
   "language": "python",
   "name": "python3"
  },
  "language_info": {
   "codemirror_mode": {
    "name": "ipython",
    "version": 3
   },
   "file_extension": ".py",
   "mimetype": "text/x-python",
   "name": "python",
   "nbconvert_exporter": "python",
   "pygments_lexer": "ipython3",
   "version": "3.9.12"
  },
  "orig_nbformat": 4
 },
 "nbformat": 4,
 "nbformat_minor": 2
}
